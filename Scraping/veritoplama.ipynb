{
 "cells": [
  {
   "cell_type": "code",
   "execution_count": 1,
   "id": "d7d5cab4",
   "metadata": {},
   "outputs": [],
   "source": [
    "from bs4 import BeautifulSoup\n",
    "import requests\n",
    "from urllib.request import Request, urlopen\n",
    "import pandas as pd"
   ]
  },
  {
   "cell_type": "code",
   "execution_count": 2,
   "id": "74ffaef4",
   "metadata": {},
   "outputs": [
    {
     "name": "stdout",
     "output_type": "stream",
     "text": [
      "50\n"
     ]
    }
   ],
   "source": [
    "\n",
    "parameter = {\"User-Agent\":\"Mozilla/5.0 (Windows NT 6.1; Win64; x64) AppleWebKit/537.36 (KHTML, like Gecko) Chrome/87.0.4280.141 Safari/537.36\"}\n",
    "\n",
    "ads = []\n",
    "\n",
    "url = \"https://www.emlakjet.com/satilik-konut/kayseri/\"\n",
    "r = requests.get(url, headers=parameter)\n",
    "soup = BeautifulSoup(r.text, 'html.parser')\n",
    "\n",
    "# Find the element containing the number of pages\n",
    "page_list = soup.find('ul', class_='_49yNIg')\n",
    "pages_number = int(page_list.find_all('li', class_='_3au2n_')[-2].text)\n",
    "\n",
    "print(pages_number)\n",
    "\n"
   ]
  },
  {
   "cell_type": "code",
   "execution_count": 3,
   "id": "952d6b84",
   "metadata": {},
   "outputs": [
    {
     "name": "stdout",
     "output_type": "stream",
     "text": [
      "https://www.emlakjet.com/satilik-konut/kayseri/1/\n",
      "https://www.emlakjet.com/satilik-konut/kayseri/2/\n",
      "https://www.emlakjet.com/satilik-konut/kayseri/3/\n",
      "https://www.emlakjet.com/satilik-konut/kayseri/4/\n",
      "https://www.emlakjet.com/satilik-konut/kayseri/5/\n",
      "https://www.emlakjet.com/satilik-konut/kayseri/6/\n",
      "https://www.emlakjet.com/satilik-konut/kayseri/7/\n",
      "https://www.emlakjet.com/satilik-konut/kayseri/8/\n",
      "https://www.emlakjet.com/satilik-konut/kayseri/9/\n",
      "https://www.emlakjet.com/satilik-konut/kayseri/10/\n",
      "https://www.emlakjet.com/satilik-konut/kayseri/11/\n",
      "https://www.emlakjet.com/satilik-konut/kayseri/12/\n",
      "https://www.emlakjet.com/satilik-konut/kayseri/13/\n",
      "https://www.emlakjet.com/satilik-konut/kayseri/14/\n",
      "https://www.emlakjet.com/satilik-konut/kayseri/15/\n",
      "https://www.emlakjet.com/satilik-konut/kayseri/16/\n",
      "https://www.emlakjet.com/satilik-konut/kayseri/17/\n",
      "https://www.emlakjet.com/satilik-konut/kayseri/18/\n",
      "https://www.emlakjet.com/satilik-konut/kayseri/19/\n",
      "https://www.emlakjet.com/satilik-konut/kayseri/20/\n",
      "https://www.emlakjet.com/satilik-konut/kayseri/21/\n",
      "https://www.emlakjet.com/satilik-konut/kayseri/22/\n",
      "https://www.emlakjet.com/satilik-konut/kayseri/23/\n",
      "https://www.emlakjet.com/satilik-konut/kayseri/24/\n",
      "https://www.emlakjet.com/satilik-konut/kayseri/25/\n",
      "https://www.emlakjet.com/satilik-konut/kayseri/26/\n",
      "https://www.emlakjet.com/satilik-konut/kayseri/27/\n",
      "https://www.emlakjet.com/satilik-konut/kayseri/28/\n",
      "https://www.emlakjet.com/satilik-konut/kayseri/29/\n",
      "https://www.emlakjet.com/satilik-konut/kayseri/30/\n",
      "https://www.emlakjet.com/satilik-konut/kayseri/31/\n",
      "https://www.emlakjet.com/satilik-konut/kayseri/32/\n",
      "https://www.emlakjet.com/satilik-konut/kayseri/33/\n",
      "https://www.emlakjet.com/satilik-konut/kayseri/34/\n",
      "https://www.emlakjet.com/satilik-konut/kayseri/35/\n",
      "https://www.emlakjet.com/satilik-konut/kayseri/36/\n",
      "https://www.emlakjet.com/satilik-konut/kayseri/37/\n",
      "https://www.emlakjet.com/satilik-konut/kayseri/38/\n",
      "https://www.emlakjet.com/satilik-konut/kayseri/39/\n",
      "https://www.emlakjet.com/satilik-konut/kayseri/40/\n",
      "https://www.emlakjet.com/satilik-konut/kayseri/41/\n",
      "https://www.emlakjet.com/satilik-konut/kayseri/42/\n",
      "https://www.emlakjet.com/satilik-konut/kayseri/43/\n",
      "https://www.emlakjet.com/satilik-konut/kayseri/44/\n",
      "https://www.emlakjet.com/satilik-konut/kayseri/45/\n",
      "https://www.emlakjet.com/satilik-konut/kayseri/46/\n",
      "https://www.emlakjet.com/satilik-konut/kayseri/47/\n",
      "https://www.emlakjet.com/satilik-konut/kayseri/48/\n",
      "https://www.emlakjet.com/satilik-konut/kayseri/49/\n"
     ]
    }
   ],
   "source": [
    "\n",
    "for page_number in range(1, pages_number): \n",
    "    # Send the request by appending the page number to the URL\n",
    "    page_url = f\"https://www.emlakjet.com/satilik-konut/kayseri/{page_number}/\"\n",
    "    r = requests.get(url, headers=parameter)\n",
    "    print(page_url)\n",
    "    # If the page does not exist break the loop\n",
    "    if r.status_code != 200:\n",
    "        break\n",
    "\n",
    "    # Pull page content and parse it using BeautifulSoup\n",
    "    soup = BeautifulSoup(r.text, 'html.parser')\n",
    "    ad_blocks = soup.find_all('div', class_='_3qUI9q')\n",
    "\n",
    "    # Process ads on every page\n",
    "    for ad_bloc in ad_blocks:\n",
    "        ad = {}\n",
    "        informations = ad_bloc.find('div', class_='_2UELHn').find_all('span')\n",
    "       \n",
    "        ad['Number Rooms'] = informations[1].text.strip()\n",
    "        ad['Floor'] = informations[2].text.strip()\n",
    "        ad['Size'] = informations[3].text.strip()\n",
    "        ad['Address'] = ad_bloc.find('div', class_='_2wVG12').text.strip()\n",
    "        ad['Price'] = ad_bloc.find('p', class_='_2C5UCT').text.strip()\n",
    "\n",
    "\n",
    "        ads.append(ad)\n",
    "        \n",
    "df = pd.DataFrame(ads)\n",
    "\n",
    "df.to_excel('house_ads_kayseri.xlsx', index=False)"
   ]
  },
  {
   "cell_type": "code",
   "execution_count": null,
   "id": "80cfcfa2",
   "metadata": {},
   "outputs": [],
   "source": []
  }
 ],
 "metadata": {
  "kernelspec": {
   "display_name": "Python 3 (ipykernel)",
   "language": "python",
   "name": "python3"
  },
  "language_info": {
   "codemirror_mode": {
    "name": "ipython",
    "version": 3
   },
   "file_extension": ".py",
   "mimetype": "text/x-python",
   "name": "python",
   "nbconvert_exporter": "python",
   "pygments_lexer": "ipython3",
   "version": "3.11.4"
  }
 },
 "nbformat": 4,
 "nbformat_minor": 5
}
