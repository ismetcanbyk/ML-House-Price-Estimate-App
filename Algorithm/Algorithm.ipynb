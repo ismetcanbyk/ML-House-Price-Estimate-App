{
 "cells": [
  {
   "cell_type": "code",
   "execution_count": 1,
   "id": "cfd4756a",
   "metadata": {},
   "outputs": [],
   "source": [
    "import pandas as pd\n",
    "from sklearn.tree import DecisionTreeRegressor\n",
    "from sklearn.metrics import  r2_score\n",
    "import sklearn.metrics as mt\n",
    "from  sklearn.model_selection import train_test_split, cross_val_score\n",
    "from sklearn.linear_model import LinearRegression, Ridge, RidgeCV, LassoCV, Lasso, ElasticNet, ElasticNetCV\n",
    "import numpy as np\n",
    "from sklearn.ensemble import RandomForestRegressor\n",
    "from sklearn.ensemble import GradientBoostingRegressor\n",
    "import joblib"
   ]
  },
  {
   "cell_type": "code",
   "execution_count": 2,
   "id": "c5e4c352",
   "metadata": {},
   "outputs": [],
   "source": [
    "df = pd.read_excel('house_ads_kayseri.xlsx')\n",
    "\n",
    "df['Number Rooms'] = df['Number Rooms'].apply(lambda x: int(float(x.replace('weekend', '').replace('+1', '').strip())))\n",
    "df['Floor'] = df['Floor'].apply(lambda x: x.replace('layers', '').strip())\n",
    "df['Floor'] = df['Floor'].apply(lambda x: int(x.split('.')[0]) if x.split('.')[0].isdigit() else 0)\n",
    "df['Size'] = df['Size'].apply(lambda x: x.replace('texture', '').replace('m2', '').strip())\n",
    "\n",
    "df['Price'] = df['Price'].apply(lambda x: x.replace('.', '').replace('TL', '').strip())\n",
    "\n",
    "df['Address'] = df['Address'].apply(lambda x: x.split('-')[1].strip() if len(x.split('-')) > 1 else None)\n",
    "\n",
    "# Filter lines starting with 'event'\n",
    "df = df[~df['Size'].str.startswith('event')]\n",
    "\n",
    "# Save cleaned data to a new Excel file\n",
    "df.to_excel('cleared_data_kayseri.xlsx', index=False)"
   ]
  },
  {
   "cell_type": "code",
   "execution_count": 4,
   "id": "499a3a6c",
   "metadata": {},
   "outputs": [
    {
     "data": {
      "text/html": [
       "<div>\n",
       "<style scoped>\n",
       "    .dataframe tbody tr th:only-of-type {\n",
       "        vertical-align: middle;\n",
       "    }\n",
       "\n",
       "    .dataframe tbody tr th {\n",
       "        vertical-align: top;\n",
       "    }\n",
       "\n",
       "    .dataframe thead th {\n",
       "        text-align: right;\n",
       "    }\n",
       "</style>\n",
       "<table border=\"1\" class=\"dataframe\">\n",
       "  <thead>\n",
       "    <tr style=\"text-align: right;\">\n",
       "      <th></th>\n",
       "      <th>Number Rooms</th>\n",
       "      <th>Floor</th>\n",
       "      <th>Size</th>\n",
       "      <th>Price</th>\n",
       "      <th>Address_Kocasinan</th>\n",
       "      <th>Address_Melikgazi</th>\n",
       "      <th>Address_Talas</th>\n",
       "    </tr>\n",
       "  </thead>\n",
       "  <tbody>\n",
       "    <tr>\n",
       "      <th>0</th>\n",
       "      <td>2</td>\n",
       "      <td>0</td>\n",
       "      <td>120</td>\n",
       "      <td>990000</td>\n",
       "      <td>1</td>\n",
       "      <td>0</td>\n",
       "      <td>0</td>\n",
       "    </tr>\n",
       "    <tr>\n",
       "      <th>1</th>\n",
       "      <td>3</td>\n",
       "      <td>11</td>\n",
       "      <td>165</td>\n",
       "      <td>2500000</td>\n",
       "      <td>0</td>\n",
       "      <td>1</td>\n",
       "      <td>0</td>\n",
       "    </tr>\n",
       "    <tr>\n",
       "      <th>2</th>\n",
       "      <td>3</td>\n",
       "      <td>9</td>\n",
       "      <td>150</td>\n",
       "      <td>1875000</td>\n",
       "      <td>1</td>\n",
       "      <td>0</td>\n",
       "      <td>0</td>\n",
       "    </tr>\n",
       "    <tr>\n",
       "      <th>3</th>\n",
       "      <td>4</td>\n",
       "      <td>7</td>\n",
       "      <td>200</td>\n",
       "      <td>2350000</td>\n",
       "      <td>0</td>\n",
       "      <td>0</td>\n",
       "      <td>1</td>\n",
       "    </tr>\n",
       "    <tr>\n",
       "      <th>4</th>\n",
       "      <td>3</td>\n",
       "      <td>9</td>\n",
       "      <td>165</td>\n",
       "      <td>2050000</td>\n",
       "      <td>1</td>\n",
       "      <td>0</td>\n",
       "      <td>0</td>\n",
       "    </tr>\n",
       "  </tbody>\n",
       "</table>\n",
       "</div>"
      ],
      "text/plain": [
       "   Number Rooms  Floor  Size    Price  Address_Kocasinan  Address_Melikgazi  \\\n",
       "0             2      0   120   990000                  1                  0   \n",
       "1             3     11   165  2500000                  0                  1   \n",
       "2             3      9   150  1875000                  1                  0   \n",
       "3             4      7   200  2350000                  0                  0   \n",
       "4             3      9   165  2050000                  1                  0   \n",
       "\n",
       "   Address_Talas  \n",
       "0              0  \n",
       "1              0  \n",
       "2              0  \n",
       "3              1  \n",
       "4              0  "
      ]
     },
     "execution_count": 4,
     "metadata": {},
     "output_type": "execute_result"
    }
   ],
   "source": [
    "data = pd.read_excel('cleared_data_kayseri.xlsx')\n",
    "\n",
    "\n",
    "# Convert categorical column to dummy variables\n",
    "data = pd.get_dummies(data, columns=['Address'], drop_first=False)\n",
    "\n",
    "data.head()\n"
   ]
  },
  {
   "cell_type": "code",
   "execution_count": 5,
   "id": "6f485513",
   "metadata": {},
   "outputs": [],
   "source": [
    "y = data[\"Price\"]\n",
    "X = data.drop(\"Price\", axis=1)\n",
    "\n",
    "X_train, X_test, y_train, y_test = train_test_split(X, y, test_size=0.25, random_state=0)"
   ]
  },
  {
   "cell_type": "code",
   "execution_count": 6,
   "id": "7e456fc7",
   "metadata": {},
   "outputs": [],
   "source": [
    "def mse(prediction):\n",
    "    result = mt.mean_squared_error(y_test, prediction)\n",
    "    return result\n",
    "\n",
    "def rmse(prediction):\n",
    "    result = mt.mean_squared_error(y_test, prediction, squared = False)\n",
    "    return result\n",
    "\n",
    "def mae(prediction):\n",
    "    result = mt.mean_absolute_error(y_test, prediction)\n",
    "    return result\n",
    "\n",
    "def confirmation(model):\n",
    "    scores = cross_val_score(model, X, y, cv = 5)\n",
    "    return scores.mean()"
   ]
  },
  {
   "cell_type": "code",
   "execution_count": 17,
   "id": "5c0f4c44",
   "metadata": {},
   "outputs": [
    {
     "name": "stdout",
     "output_type": "stream",
     "text": [
      "R-square Train:\t0.9893104128886402\n",
      "R-square Test:\t0.9903292397042894\n",
      "MSE:\t3768726335.6035686\n",
      "RMSE:\t61389.95305099661\n",
      "MAE:\t15821.846393017619\n",
      "Confirmation:\t0.989592718015669\n"
     ]
    }
   ],
   "source": [
    "# Random Forest Regressor\n",
    "rf = RandomForestRegressor()\n",
    "rf.fit(X_train, y_train)\n",
    "\n",
    "predictions = rf.predict(X_test)\n",
    "\n",
    "# Calculate R-squared for training set\n",
    "y_train_pred = rf.predict(X_train)\n",
    "r2_train = r2_score(y_train, y_train_pred)\n",
    "\n",
    "# Evaluating the model's performance\n",
    "mse1 = mse(predictions)\n",
    "rmse1 = rmse(predictions)\n",
    "mae1 = mae(predictions)\n",
    "score = confirmation(rf)\n",
    "r2_test = r2_score(y_test, predictions)\n",
    "\n",
    "                    \n",
    "print(\"R-square Train:\\t{}\\nR-square Test:\\t{}\\nMSE:\\t{}\\nRMSE:\\t{}\\nMAE:\\t{}\\nConfirmation:\\t{}\".format(r2_train, r2_test,mse1, rmse1, mae1, score))\n",
    "\n"
   ]
  },
  {
   "cell_type": "code",
   "execution_count": 9,
   "id": "09ed48de",
   "metadata": {},
   "outputs": [
    {
     "name": "stdout",
     "output_type": "stream",
     "text": [
      "R-square Train:\t0.6084756516911859\n",
      "R-square Test:\t0.6111284041404045\n",
      "MSE:\t151544509394.3938\n",
      "RMSE:\t389287.18113289296\n",
      "MAE:\t317038.8283137231\n",
      "Confirmation:\t0.6112516060896958\n"
     ]
    }
   ],
   "source": [
    "# Lineer\n",
    "lr = LinearRegression()\n",
    "lr.fit(X_train, y_train)\n",
    "prediction = lr.predict(X_test)\n",
    "\n",
    "r2_train = lr.score(X_train, y_train)\n",
    "r2 = mt.r2_score(y_test, prediction)\n",
    "\n",
    "mse1 = mse(prediction)\n",
    "rmse1 = rmse(prediction)\n",
    "mae1 = mae(prediction)\n",
    "score = confirmation(lr)\n",
    "\n",
    "#Retrieving the model\n",
    "joblib.dump(lr,'house-data-lineer-model.pkl')\n",
    "\n",
    "print(\"R-square Train:\\t{}\\nR-square Test:\\t{}\\nMSE:\\t{}\\nRMSE:\\t{}\\nMAE:\\t{}\\nConfirmation:\\t{}\".format(r2_train, r2,mse1, rmse1, mae1, score))\n"
   ]
  },
  {
   "cell_type": "code",
   "execution_count": 11,
   "id": "d724a0c8",
   "metadata": {},
   "outputs": [
    {
     "name": "stdout",
     "output_type": "stream",
     "text": [
      "R-square Train:\t0.608475160473701\n",
      "R-square Test:\t0.6111136659217116\n",
      "MSE:\t151550252925.53604\n",
      "RMSE:\t389294.55804767687\n",
      "MAE:\t317021.83291187015\n",
      "Confirmation:\t0.6112511999809119\n"
     ]
    }
   ],
   "source": [
    "#Ridge Regression\n",
    "\n",
    "lambdalar = 10**np.linspace(10,-2,100)*0.5\n",
    "ridge_cv = RidgeCV(alphas = lambdalar, scoring = \"r2\")\n",
    "ridge_cv.fit(X_train, y_train)\n",
    "\n",
    "\n",
    "lr_rid = Ridge(alpha = 0.4348745013088917)\n",
    "lr_rid.fit(X_train, y_train)\n",
    "\n",
    "\n",
    "prediction2 = lr_rid.predict(X_test)\n",
    "\n",
    "r2_rid_train = lr_rid.score(X_train,y_train)\n",
    "r2_rid = mt.r2_score(y_test, prediction2)\n",
    "mse_rid = mse(prediction2)\n",
    "rmse_rid = rmse(prediction2)\n",
    "mae_rid = mae(prediction2)\n",
    "score_rid = confirmation(lr_rid)\n",
    "\n",
    "print(\"R-square Train:\\t{}\\nR-square Test:\\t{}\\nMSE:\\t{}\\nRMSE:\\t{}\\nMAE:\\t{}\\nConfirmation:\\t{}\".format(r2_rid_train,r2_rid,mse_rid,rmse_rid,mae_rid,score_rid))\n"
   ]
  },
  {
   "cell_type": "code",
   "execution_count": 12,
   "id": "bb8e5675",
   "metadata": {},
   "outputs": [
    {
     "name": "stdout",
     "output_type": "stream",
     "text": [
      "R-square Train:\t0.6084727362029263\n",
      "R-square Test:\t0.6109380518297378\n",
      "MSE:\t151618690300.99435\n",
      "RMSE:\t389382.4473457867\n",
      "MAE:\t389382.4473457867\n",
      "Confirmation:\t0.6112487567186221\n"
     ]
    }
   ],
   "source": [
    "#LASSO Regression\n",
    "\n",
    "lamb = LassoCV(cv = 10, max_iter = 10000).fit(X_train,y_train).alpha_\n",
    "\n",
    "\n",
    "lr_las = Lasso(alpha = 222.21405622009905)\n",
    "lr_las.fit(X_train, y_train)\n",
    "prediction3 = lr_las.predict(X_test)\n",
    "\n",
    "r2_las_train = lr_las.score(X_train,y_train)\n",
    "r2_las = mt.r2_score(y_test, prediction3)\n",
    "mse_las = mse(prediction3)\n",
    "rmse_las = rmse(prediction3)\n",
    "mae_las = mae(prediction3)\n",
    "score_las = confirmation(lr_las)\n",
    "\n",
    "print(\"R-square Train:\\t{}\\nR-square Test:\\t{}\\nMSE:\\t{}\\nRMSE:\\t{}\\nMAE:\\t{}\\nConfirmation:\\t{}\".format(r2_las_train,r2_las,mse_las,rmse_las,rmse_las,score_las))\n"
   ]
  },
  {
   "cell_type": "code",
   "execution_count": 13,
   "id": "f1b2dc1f",
   "metadata": {},
   "outputs": [
    {
     "name": "stdout",
     "output_type": "stream",
     "text": [
      "R-square Train:\t0.6047394083723714\n",
      "R-square Test:\t0.6065275816762419\n",
      "MSE:\t153337464679.80365\n",
      "RMSE:\t391583.2793669868\n",
      "MAE:\t316835.72972072574\n",
      "Confirmation:\t0.6072823755776929\n"
     ]
    }
   ],
   "source": [
    "#Elastic Net Regression\n",
    "\n",
    "lr_elas = ElasticNet(alpha = 0.1)\n",
    "lr_elas.fit(X_train, y_train)\n",
    "prediction4 = lr_elas.predict(X_test)\n",
    "\n",
    "r2_elas_train = lr_elas.score(X_train,y_train)\n",
    "r2_elas = mt.r2_score(y_test, prediction4)\n",
    "mse_elas = mse(prediction4)\n",
    "rmse_elas = rmse(prediction4)\n",
    "mae_elas = mae(prediction4)\n",
    "score_elas = confirmation(lr_elas)\n",
    "\n",
    "print(\"R-square Train:\\t{}\\nR-square Test:\\t{}\\nMSE:\\t{}\\nRMSE:\\t{}\\nMAE:\\t{}\\nConfirmation:\\t{}\".format(r2_elas_train,r2_elas,mse_elas,rmse_elas,mae_elas,score_elas))\n"
   ]
  },
  {
   "cell_type": "code",
   "execution_count": 14,
   "id": "2efa499a",
   "metadata": {},
   "outputs": [
    {
     "name": "stdout",
     "output_type": "stream",
     "text": [
      "R-square Train:\t0.9893104233101516\n",
      "R-square Test:\t0.990327022834706\n",
      "MSE:\t3769590256.797583\n",
      "RMSE:\t61396.98898804063\n",
      "MAE:\t15823.262839879155\n",
      "Confirmation:\t0.9895907180916627\n"
     ]
    }
   ],
   "source": [
    "# Decision Tree Regressor\n",
    "dt_reg = DecisionTreeRegressor(random_state=0)\n",
    "dt_reg.fit(X_train, y_train)\n",
    "prediction_dt = dt_reg.predict(X_test)\n",
    "\n",
    "r2_dt_train = dt_reg.score(X_train, y_train)\n",
    "r2_dt = r2_score(y_test, prediction_dt)\n",
    "mse_dt = mse(prediction_dt)\n",
    "rmse_dt = rmse(prediction_dt)\n",
    "mae_dt = mae(prediction_dt)\n",
    "score_dt = confirmation(dt_reg)\n",
    "\n",
    "print(\"R-square Train:\\t{}\\nR-square Test:\\t{}\\nMSE:\\t{}\\nRMSE:\\t{}\\nMAE:\\t{}\\nConfirmation:\\t{}\".format(r2_dt_train, r2_dt, mse_dt, rmse_dt, mae_dt, score_dt))"
   ]
  },
  {
   "cell_type": "code",
   "execution_count": 15,
   "id": "d4119698",
   "metadata": {},
   "outputs": [
    {
     "name": "stdout",
     "output_type": "stream",
     "text": [
      "R-square Train:\t0.9887504600810885\n",
      "R-square Test:\t0.9897428680603153\n",
      "MSE:\t3997237247.8300495\n",
      "RMSE:\t63223.70795698438\n",
      "MAE:\t28260.97007540884\n",
      "cCnfirmation:\t0.9890531215619909\n"
     ]
    }
   ],
   "source": [
    "# Gradient Boosting Regressor\n",
    "\n",
    "gb_reg = GradientBoostingRegressor(n_estimators=100, learning_rate=0.1, max_depth=3, random_state=42)\n",
    "gb_reg.fit(X_train, y_train)\n",
    "prediction_gb = gb_reg.predict(X_test)\n",
    "\n",
    "r2_gb_train = gb_reg.score(X_train, y_train)\n",
    "r2_gb = r2_score(y_test, prediction_gb)\n",
    "mse_gb = mse(prediction_gb)\n",
    "rmse_gb = rmse(prediction_gb)\n",
    "mae_gb = mae(prediction_gb)\n",
    "score_gb = confirmation(gb_reg)\n",
    "\n",
    "\n",
    "print(\"R-square Train:\\t{}\\nR-square Test:\\t{}\\nMSE:\\t{}\\nRMSE:\\t{}\\nMAE:\\t{}\\ncCnfirmation:\\t{}\".format(r2_gb_train, r2_gb, mse_gb, rmse_gb, mae_gb, score_gb))"
   ]
  },
  {
   "cell_type": "code",
   "execution_count": null,
   "id": "db332570",
   "metadata": {},
   "outputs": [],
   "source": []
  }
 ],
 "metadata": {
  "kernelspec": {
   "display_name": "Python 3 (ipykernel)",
   "language": "python",
   "name": "python3"
  },
  "language_info": {
   "codemirror_mode": {
    "name": "ipython",
    "version": 3
   },
   "file_extension": ".py",
   "mimetype": "text/x-python",
   "name": "python",
   "nbconvert_exporter": "python",
   "pygments_lexer": "ipython3",
   "version": "3.11.4"
  }
 },
 "nbformat": 4,
 "nbformat_minor": 5
}
